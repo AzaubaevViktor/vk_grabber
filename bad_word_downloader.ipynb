{
 "cells": [
  {
   "cell_type": "code",
   "execution_count": null,
   "metadata": {
    "collapsed": true
   },
   "outputs": [],
   "source": [
    "\n"
   ]
  },
  {
   "cell_type": "code",
   "execution_count": null,
   "outputs": [],
   "source": [
    "from plotly import graph_objects as go\n",
    "\n",
    "\n",
    "def draw_word(fig, word_ts: Word,\n",
    "              name, opacity=None, mode=None):\n",
    "    y = word_ts.v\n",
    "    assert y is not None\n",
    "\n",
    "    from datetime import datetime\n",
    "    x_dt = [datetime.fromtimestamp(ts) for ts in word.t]\n",
    "\n",
    "    fig.add_trace(go.Scatter(x=x_dt, y=y,\n",
    "                             name=name, opacity=opacity,\n",
    "                             mode=mode))\n",
    "\n",
    "word = Word(\"нгу\")\n",
    "await word.download()\n",
    "\n",
    "word = Word(\"test\", np.array(\n",
    "    [time() - 60 * 60, time(), time() + 60 * 60, time() + 60 * 60, time() + 60 * 60 * 3, time() + 60 * 60 * 3, time() + 60 * 60 * 4],\n",
    "    dtype=int\n",
    "))\n",
    "print(word.t)\n",
    "\n",
    "print(word.slice().t)\n",
    "\n"
   ],
   "metadata": {
    "collapsed": false,
    "pycharm": {
     "name": "#%%\n"
    }
   }
  }
 ],
 "metadata": {
  "kernelspec": {
   "display_name": "Python 3",
   "language": "python",
   "name": "python3"
  },
  "language_info": {
   "codemirror_mode": {
    "name": "ipython",
    "version": 2
   },
   "file_extension": ".py",
   "mimetype": "text/x-python",
   "name": "python",
   "nbconvert_exporter": "python",
   "pygments_lexer": "ipython2",
   "version": "2.7.6"
  }
 },
 "nbformat": 4,
 "nbformat_minor": 0
}