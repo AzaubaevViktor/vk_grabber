{
 "cells": [
  {
   "cell_type": "code",
   "execution_count": 1,
   "metadata": {
    "collapsed": true,
    "pycharm": {
     "name": "#%% Check version\n",
     "is_executing": false
    }
   },
   "outputs": [
    {
     "name": "stdout",
     "text": [
      "3.8.2 (default, Mar 11 2020, 00:28:52) \n",
      "[Clang 11.0.0 (clang-1100.0.33.17)]\n"
     ],
     "output_type": "stream"
    }
   ],
   "source": [
    "from sys import version\n",
    "print(version)\n"
   ]
  },
  {
   "cell_type": "code",
   "execution_count": 14,
   "outputs": [],
   "source": [
    "from app import AppContext, Word as WordModel\n",
    "from core import LoadConfig\n",
    "import numpy as np\n",
    "\n",
    "from scipy.interpolate import griddata\n",
    "\n",
    "from typing import *\n",
    "from time import time\n"
   ],
   "metadata": {
    "collapsed": false,
    "pycharm": {
     "name": "#%% Imports\n",
     "is_executing": false
    }
   }
  },
  {
   "cell_type": "code",
   "execution_count": 236,
   "outputs": [
    {
     "name": "stdout",
     "text": [
      "[2020-04-11 22:00:04.566096] [  INFO   \u001b[0m] /\u001b[35m42169\u001b[0m/ LoadConfig \u001b[90mcore/config/__init__.py:13 LoadConfig\u001b[0m: Load config source=configs/main.yaml\n"
     ],
     "output_type": "stream"
    }
   ],
   "source": [
    "ctx = AppContext(LoadConfig(\"configs/main.yaml\"))\n",
    "\n",
    "\n",
    "class Word:\n",
    "    def __init__(self, word: str,\n",
    "                 t: np.ndarray = None, \n",
    "                 v: np.ndarray = None):\n",
    "        self.word = word.strip().lower()\n",
    "        self.t = t\n",
    "        self.v = v\n",
    "        if t is not None and v is not None:\n",
    "            assert len(t) == len(v), (len(t), len(v))\n",
    "            \n",
    "    def _set_default_v(self):\n",
    "        assert self.v is None\n",
    "        self.t, self.v = np.unique(self.t, return_counts=True)\n",
    "    \n",
    "    async def download(self, period_s=60 * 60 * 24 * 30 * 6):\n",
    "        word_p = []\n",
    "        start_time = time() - period_s\n",
    "        async for word in ctx.db.find(WordModel(word=self.word)):\n",
    "            if word.date >= start_time:\n",
    "                word_p.append(word.date)\n",
    "        word_ts = np.array(word_p)\n",
    "        self.t = word_ts\n",
    "        self.t.sort()\n",
    "    \n",
    "    def slice(self, from_p=5, to_p=95):\n",
    "        from_p_val = np.percentile(self.t, from_p)\n",
    "        to_p_val = np.percentile(self.t, to_p)\n",
    "        \n",
    "        filter_ = (from_p_val < self.t) & (self.t < to_p_val)\n",
    "        \n",
    "        return Word(self.word, self.t[filter_], self.v[filter_] if self.v is not None else None) \n",
    "    \n",
    "    def integrate(self):\n",
    "        if self.v is None:\n",
    "            self._set_default_v()\n",
    "        return Word(self.word, self.t, np.cumsum(self.v))\n",
    "    \n",
    "    def diff(self):\n",
    "        return Word(self.word,\n",
    "                    self.t,\n",
    "                    np.diff(self.v)\n",
    "                    )\n",
    "    \n",
    "    def moving_avg(self, periods):\n",
    "        periods = int(periods)\n",
    "        weights = np.ones(periods) / periods\n",
    "        v = np.convolve(self.v, weights, mode='same')\n",
    "        return Word(self.word, self.t, v)\n",
    "    \n",
    "    def to_grid(self, coef):\n",
    "        if self.v is None:\n",
    "            self._set_default_v()\n",
    "            \n",
    "        period = np.percentile(np.diff(self.t), 50) / coef\n",
    "        print(period)\n",
    "        count = int((self.t.max() - self.t.min()) // period or 0) + 1\n",
    "        start_ = self.t.min()\n",
    "\n",
    "        xi = np.linspace(self.t.min(), self.t.max(), num=count, dtype=int)\n",
    "        assert self.t.max() == xi.max(), (self.t.max(), xi.max())\n",
    "        v = np.zeros((count + 1, ), dtype=int)\n",
    "        \n",
    "        indexes = ((self.t - start_) // period).round().astype(int)\n",
    "        print(indexes, self.v)\n",
    "        \n",
    "        np.add.at(v, indexes, self.v)\n",
    "        print(xi)\n",
    "        print(v)\n",
    "        print(v.sum(), self.v.sum())\n",
    "        \n",
    "        return Word(self.word, xi, v[:-1])\n",
    "        \n",
    "    def get_smooth(self, coef=1, mov=True):\n",
    "        result = self.slice().integrate().to_grid(coef)#.diff()\n",
    "        if mov:\n",
    "            result = result.moving_avg(coef * 2)\n",
    "        return result\n",
    "    "
   ],
   "metadata": {
    "collapsed": false,
    "pycharm": {
     "name": "#%% Load config\n",
     "is_executing": false
    }
   }
  },
  {
   "cell_type": "code",
   "execution_count": 242,
   "outputs": [
    {
     "name": "stdout",
     "text": [
      "[1586613685 1586617285 1586620885 1586620885 1586628085 1586628085\n",
      " 1586631685]\n",
      "[1586617285 1586620885 1586620885 1586628085 1586628085]\n"
     ],
     "output_type": "stream"
    }
   ],
   "source": [
    "from plotly import graph_objects as go\n",
    "\n",
    "\n",
    "def draw_word(fig, word_ts: Word,\n",
    "              name, opacity=None, mode=None):\n",
    "    y = word_ts.v\n",
    "    assert y is not None\n",
    "\n",
    "    from datetime import datetime\n",
    "    x_dt = [datetime.fromtimestamp(ts) for ts in word.t]\n",
    "\n",
    "    fig.add_trace(go.Scatter(x=x_dt, y=y,\n",
    "                             name=name, opacity=opacity,\n",
    "                             mode=mode))\n",
    "\n",
    "word = Word(\"нгу\")\n",
    "await word.download()\n",
    "\n",
    "word = Word(\"test\", np.array(\n",
    "    [time() - 60 * 60, time(), time() + 60 * 60, time() + 60 * 60, time() + 60 * 60 * 3, time() + 60 * 60 * 3, time() + 60 * 60 * 4],\n",
    "    dtype=int\n",
    "))\n",
    "print(word.t)\n",
    "\n",
    "print(word.slice().t)"
   ],
   "metadata": {
    "collapsed": false,
    "pycharm": {
     "name": "#%%\n",
     "is_executing": false
    }
   }
  },
  {
   "cell_type": "code",
   "execution_count": 243,
   "outputs": [
    {
     "name": "stdout",
     "text": [
      "10800.0\n",
      "[0 0 1] [1 2 2]\n",
      "[1586617285 1586628085]\n",
      "[3 2 0]\n",
      "5 5\n",
      "5400.0\n",
      "[0 0 2] [1 2 2]\n",
      "[1586617285 1586622685 1586628085]\n",
      "[3 0 2 0]\n",
      "5 5\n",
      "3600.0\n",
      "[0 1 3] [1 2 2]\n",
      "[1586617285 1586620885 1586624485 1586628085]\n",
      "[1 2 0 2 0]\n",
      "5 5\n",
      "2700.0\n",
      "[0 1 4] [1 2 2]\n",
      "[1586617285 1586619985 1586622685 1586625385 1586628085]\n",
      "[1 2 0 0 2 0]\n",
      "5 5\n",
      "2160.0\n",
      "[0 1 5] [1 2 2]\n",
      "[1586617285 1586619445 1586621605 1586623765 1586625925 1586628085]\n",
      "[1 2 0 0 0 2 0]\n",
      "5 5\n",
      "1800.0\n",
      "[0 2 6] [1 2 2]\n",
      "[1586617285 1586619085 1586620885 1586622685 1586624485 1586626285\n",
      " 1586628085]\n",
      "[1 0 2 0 0 0 2 0]\n",
      "5 5\n",
      "1542.857142857143\n",
      "[0 2 6] [1 2 2]\n",
      "[1586617285 1586619085 1586620885 1586622685 1586624485 1586626285\n",
      " 1586628085]\n",
      "[1 0 2 0 0 0 2 0]\n",
      "5 5\n",
      "1350.0\n",
      "[0 2 8] [1 2 2]\n",
      "[1586617285 1586618635 1586619985 1586621335 1586622685 1586624035\n",
      " 1586625385 1586626735 1586628085]\n",
      "[1 0 2 0 0 0 0 0 2 0]\n",
      "5 5\n",
      "1200.0\n",
      "[0 3 9] [1 2 2]\n",
      "[1586617285 1586618485 1586619685 1586620885 1586622085 1586623285\n",
      " 1586624485 1586625685 1586626885 1586628085]\n",
      "[1 0 0 2 0 0 0 0 0 2 0]\n",
      "5 5\n"
     ],
     "output_type": "stream"
    },
    {
     "data": {
      "application/vnd.plotly.v1+json": {
       "config": {
        "plotlyServerURL": "https://plot.ly"
       },
       "data": [
        {
         "name": "grid_0.5",
         "type": "scatter",
         "x": [
          "2020-04-11T21:01:25",
          "2020-04-11T22:01:25",
          "2020-04-11T23:01:25",
          "2020-04-11T23:01:25",
          "2020-04-12T01:01:25",
          "2020-04-12T01:01:25",
          "2020-04-12T02:01:25"
         ],
         "y": [
          3,
          5
         ]
        },
        {
         "name": "grid_1.0",
         "type": "scatter",
         "x": [
          "2020-04-11T21:01:25",
          "2020-04-11T22:01:25",
          "2020-04-11T23:01:25",
          "2020-04-11T23:01:25",
          "2020-04-12T01:01:25",
          "2020-04-12T01:01:25",
          "2020-04-12T02:01:25"
         ],
         "y": [
          3,
          3,
          5
         ]
        },
        {
         "name": "grid_1.5",
         "type": "scatter",
         "x": [
          "2020-04-11T21:01:25",
          "2020-04-11T22:01:25",
          "2020-04-11T23:01:25",
          "2020-04-11T23:01:25",
          "2020-04-12T01:01:25",
          "2020-04-12T01:01:25",
          "2020-04-12T02:01:25"
         ],
         "y": [
          1,
          3,
          3,
          5
         ]
        },
        {
         "name": "grid_2.0",
         "type": "scatter",
         "x": [
          "2020-04-11T21:01:25",
          "2020-04-11T22:01:25",
          "2020-04-11T23:01:25",
          "2020-04-11T23:01:25",
          "2020-04-12T01:01:25",
          "2020-04-12T01:01:25",
          "2020-04-12T02:01:25"
         ],
         "y": [
          1,
          3,
          3,
          3,
          5
         ]
        },
        {
         "name": "grid_2.5",
         "type": "scatter",
         "x": [
          "2020-04-11T21:01:25",
          "2020-04-11T22:01:25",
          "2020-04-11T23:01:25",
          "2020-04-11T23:01:25",
          "2020-04-12T01:01:25",
          "2020-04-12T01:01:25",
          "2020-04-12T02:01:25"
         ],
         "y": [
          1,
          3,
          3,
          3,
          3,
          5
         ]
        },
        {
         "name": "grid_3.0",
         "type": "scatter",
         "x": [
          "2020-04-11T21:01:25",
          "2020-04-11T22:01:25",
          "2020-04-11T23:01:25",
          "2020-04-11T23:01:25",
          "2020-04-12T01:01:25",
          "2020-04-12T01:01:25",
          "2020-04-12T02:01:25"
         ],
         "y": [
          1,
          1,
          3,
          3,
          3,
          3,
          5
         ]
        },
        {
         "name": "grid_3.5",
         "type": "scatter",
         "x": [
          "2020-04-11T21:01:25",
          "2020-04-11T22:01:25",
          "2020-04-11T23:01:25",
          "2020-04-11T23:01:25",
          "2020-04-12T01:01:25",
          "2020-04-12T01:01:25",
          "2020-04-12T02:01:25"
         ],
         "y": [
          1,
          1,
          3,
          3,
          3,
          3,
          5
         ]
        },
        {
         "name": "grid_4.0",
         "type": "scatter",
         "x": [
          "2020-04-11T21:01:25",
          "2020-04-11T22:01:25",
          "2020-04-11T23:01:25",
          "2020-04-11T23:01:25",
          "2020-04-12T01:01:25",
          "2020-04-12T01:01:25",
          "2020-04-12T02:01:25"
         ],
         "y": [
          1,
          1,
          3,
          3,
          3,
          3,
          3,
          3,
          5
         ]
        },
        {
         "name": "grid_4.5",
         "type": "scatter",
         "x": [
          "2020-04-11T21:01:25",
          "2020-04-11T22:01:25",
          "2020-04-11T23:01:25",
          "2020-04-11T23:01:25",
          "2020-04-12T01:01:25",
          "2020-04-12T01:01:25",
          "2020-04-12T02:01:25"
         ],
         "y": [
          1,
          1,
          1,
          3,
          3,
          3,
          3,
          3,
          3,
          5
         ]
        },
        {
         "name": "slice+int",
         "type": "scatter",
         "x": [
          "2020-04-11T21:01:25",
          "2020-04-11T22:01:25",
          "2020-04-11T23:01:25",
          "2020-04-11T23:01:25",
          "2020-04-12T01:01:25",
          "2020-04-12T01:01:25",
          "2020-04-12T02:01:25"
         ],
         "y": [
          1,
          3,
          5
         ]
        }
       ],
       "layout": {
        "template": {
         "data": {
          "bar": [
           {
            "error_x": {
             "color": "#2a3f5f"
            },
            "error_y": {
             "color": "#2a3f5f"
            },
            "marker": {
             "line": {
              "color": "#E5ECF6",
              "width": 0.5
             }
            },
            "type": "bar"
           }
          ],
          "barpolar": [
           {
            "marker": {
             "line": {
              "color": "#E5ECF6",
              "width": 0.5
             }
            },
            "type": "barpolar"
           }
          ],
          "carpet": [
           {
            "aaxis": {
             "endlinecolor": "#2a3f5f",
             "gridcolor": "white",
             "linecolor": "white",
             "minorgridcolor": "white",
             "startlinecolor": "#2a3f5f"
            },
            "baxis": {
             "endlinecolor": "#2a3f5f",
             "gridcolor": "white",
             "linecolor": "white",
             "minorgridcolor": "white",
             "startlinecolor": "#2a3f5f"
            },
            "type": "carpet"
           }
          ],
          "choropleth": [
           {
            "colorbar": {
             "outlinewidth": 0,
             "ticks": ""
            },
            "type": "choropleth"
           }
          ],
          "contour": [
           {
            "colorbar": {
             "outlinewidth": 0,
             "ticks": ""
            },
            "colorscale": [
             [
              0.0,
              "#0d0887"
             ],
             [
              0.1111111111111111,
              "#46039f"
             ],
             [
              0.2222222222222222,
              "#7201a8"
             ],
             [
              0.3333333333333333,
              "#9c179e"
             ],
             [
              0.4444444444444444,
              "#bd3786"
             ],
             [
              0.5555555555555556,
              "#d8576b"
             ],
             [
              0.6666666666666666,
              "#ed7953"
             ],
             [
              0.7777777777777778,
              "#fb9f3a"
             ],
             [
              0.8888888888888888,
              "#fdca26"
             ],
             [
              1.0,
              "#f0f921"
             ]
            ],
            "type": "contour"
           }
          ],
          "contourcarpet": [
           {
            "colorbar": {
             "outlinewidth": 0,
             "ticks": ""
            },
            "type": "contourcarpet"
           }
          ],
          "heatmap": [
           {
            "colorbar": {
             "outlinewidth": 0,
             "ticks": ""
            },
            "colorscale": [
             [
              0.0,
              "#0d0887"
             ],
             [
              0.1111111111111111,
              "#46039f"
             ],
             [
              0.2222222222222222,
              "#7201a8"
             ],
             [
              0.3333333333333333,
              "#9c179e"
             ],
             [
              0.4444444444444444,
              "#bd3786"
             ],
             [
              0.5555555555555556,
              "#d8576b"
             ],
             [
              0.6666666666666666,
              "#ed7953"
             ],
             [
              0.7777777777777778,
              "#fb9f3a"
             ],
             [
              0.8888888888888888,
              "#fdca26"
             ],
             [
              1.0,
              "#f0f921"
             ]
            ],
            "type": "heatmap"
           }
          ],
          "heatmapgl": [
           {
            "colorbar": {
             "outlinewidth": 0,
             "ticks": ""
            },
            "colorscale": [
             [
              0.0,
              "#0d0887"
             ],
             [
              0.1111111111111111,
              "#46039f"
             ],
             [
              0.2222222222222222,
              "#7201a8"
             ],
             [
              0.3333333333333333,
              "#9c179e"
             ],
             [
              0.4444444444444444,
              "#bd3786"
             ],
             [
              0.5555555555555556,
              "#d8576b"
             ],
             [
              0.6666666666666666,
              "#ed7953"
             ],
             [
              0.7777777777777778,
              "#fb9f3a"
             ],
             [
              0.8888888888888888,
              "#fdca26"
             ],
             [
              1.0,
              "#f0f921"
             ]
            ],
            "type": "heatmapgl"
           }
          ],
          "histogram": [
           {
            "marker": {
             "colorbar": {
              "outlinewidth": 0,
              "ticks": ""
             }
            },
            "type": "histogram"
           }
          ],
          "histogram2d": [
           {
            "colorbar": {
             "outlinewidth": 0,
             "ticks": ""
            },
            "colorscale": [
             [
              0.0,
              "#0d0887"
             ],
             [
              0.1111111111111111,
              "#46039f"
             ],
             [
              0.2222222222222222,
              "#7201a8"
             ],
             [
              0.3333333333333333,
              "#9c179e"
             ],
             [
              0.4444444444444444,
              "#bd3786"
             ],
             [
              0.5555555555555556,
              "#d8576b"
             ],
             [
              0.6666666666666666,
              "#ed7953"
             ],
             [
              0.7777777777777778,
              "#fb9f3a"
             ],
             [
              0.8888888888888888,
              "#fdca26"
             ],
             [
              1.0,
              "#f0f921"
             ]
            ],
            "type": "histogram2d"
           }
          ],
          "histogram2dcontour": [
           {
            "colorbar": {
             "outlinewidth": 0,
             "ticks": ""
            },
            "colorscale": [
             [
              0.0,
              "#0d0887"
             ],
             [
              0.1111111111111111,
              "#46039f"
             ],
             [
              0.2222222222222222,
              "#7201a8"
             ],
             [
              0.3333333333333333,
              "#9c179e"
             ],
             [
              0.4444444444444444,
              "#bd3786"
             ],
             [
              0.5555555555555556,
              "#d8576b"
             ],
             [
              0.6666666666666666,
              "#ed7953"
             ],
             [
              0.7777777777777778,
              "#fb9f3a"
             ],
             [
              0.8888888888888888,
              "#fdca26"
             ],
             [
              1.0,
              "#f0f921"
             ]
            ],
            "type": "histogram2dcontour"
           }
          ],
          "mesh3d": [
           {
            "colorbar": {
             "outlinewidth": 0,
             "ticks": ""
            },
            "type": "mesh3d"
           }
          ],
          "parcoords": [
           {
            "line": {
             "colorbar": {
              "outlinewidth": 0,
              "ticks": ""
             }
            },
            "type": "parcoords"
           }
          ],
          "pie": [
           {
            "automargin": true,
            "type": "pie"
           }
          ],
          "scatter": [
           {
            "marker": {
             "colorbar": {
              "outlinewidth": 0,
              "ticks": ""
             }
            },
            "type": "scatter"
           }
          ],
          "scatter3d": [
           {
            "line": {
             "colorbar": {
              "outlinewidth": 0,
              "ticks": ""
             }
            },
            "marker": {
             "colorbar": {
              "outlinewidth": 0,
              "ticks": ""
             }
            },
            "type": "scatter3d"
           }
          ],
          "scattercarpet": [
           {
            "marker": {
             "colorbar": {
              "outlinewidth": 0,
              "ticks": ""
             }
            },
            "type": "scattercarpet"
           }
          ],
          "scattergeo": [
           {
            "marker": {
             "colorbar": {
              "outlinewidth": 0,
              "ticks": ""
             }
            },
            "type": "scattergeo"
           }
          ],
          "scattergl": [
           {
            "marker": {
             "colorbar": {
              "outlinewidth": 0,
              "ticks": ""
             }
            },
            "type": "scattergl"
           }
          ],
          "scattermapbox": [
           {
            "marker": {
             "colorbar": {
              "outlinewidth": 0,
              "ticks": ""
             }
            },
            "type": "scattermapbox"
           }
          ],
          "scatterpolar": [
           {
            "marker": {
             "colorbar": {
              "outlinewidth": 0,
              "ticks": ""
             }
            },
            "type": "scatterpolar"
           }
          ],
          "scatterpolargl": [
           {
            "marker": {
             "colorbar": {
              "outlinewidth": 0,
              "ticks": ""
             }
            },
            "type": "scatterpolargl"
           }
          ],
          "scatterternary": [
           {
            "marker": {
             "colorbar": {
              "outlinewidth": 0,
              "ticks": ""
             }
            },
            "type": "scatterternary"
           }
          ],
          "surface": [
           {
            "colorbar": {
             "outlinewidth": 0,
             "ticks": ""
            },
            "colorscale": [
             [
              0.0,
              "#0d0887"
             ],
             [
              0.1111111111111111,
              "#46039f"
             ],
             [
              0.2222222222222222,
              "#7201a8"
             ],
             [
              0.3333333333333333,
              "#9c179e"
             ],
             [
              0.4444444444444444,
              "#bd3786"
             ],
             [
              0.5555555555555556,
              "#d8576b"
             ],
             [
              0.6666666666666666,
              "#ed7953"
             ],
             [
              0.7777777777777778,
              "#fb9f3a"
             ],
             [
              0.8888888888888888,
              "#fdca26"
             ],
             [
              1.0,
              "#f0f921"
             ]
            ],
            "type": "surface"
           }
          ],
          "table": [
           {
            "cells": {
             "fill": {
              "color": "#EBF0F8"
             },
             "line": {
              "color": "white"
             }
            },
            "header": {
             "fill": {
              "color": "#C8D4E3"
             },
             "line": {
              "color": "white"
             }
            },
            "type": "table"
           }
          ]
         },
         "layout": {
          "annotationdefaults": {
           "arrowcolor": "#2a3f5f",
           "arrowhead": 0,
           "arrowwidth": 1
          },
          "coloraxis": {
           "colorbar": {
            "outlinewidth": 0,
            "ticks": ""
           }
          },
          "colorscale": {
           "diverging": [
            [
             0,
             "#8e0152"
            ],
            [
             0.1,
             "#c51b7d"
            ],
            [
             0.2,
             "#de77ae"
            ],
            [
             0.3,
             "#f1b6da"
            ],
            [
             0.4,
             "#fde0ef"
            ],
            [
             0.5,
             "#f7f7f7"
            ],
            [
             0.6,
             "#e6f5d0"
            ],
            [
             0.7,
             "#b8e186"
            ],
            [
             0.8,
             "#7fbc41"
            ],
            [
             0.9,
             "#4d9221"
            ],
            [
             1,
             "#276419"
            ]
           ],
           "sequential": [
            [
             0.0,
             "#0d0887"
            ],
            [
             0.1111111111111111,
             "#46039f"
            ],
            [
             0.2222222222222222,
             "#7201a8"
            ],
            [
             0.3333333333333333,
             "#9c179e"
            ],
            [
             0.4444444444444444,
             "#bd3786"
            ],
            [
             0.5555555555555556,
             "#d8576b"
            ],
            [
             0.6666666666666666,
             "#ed7953"
            ],
            [
             0.7777777777777778,
             "#fb9f3a"
            ],
            [
             0.8888888888888888,
             "#fdca26"
            ],
            [
             1.0,
             "#f0f921"
            ]
           ],
           "sequentialminus": [
            [
             0.0,
             "#0d0887"
            ],
            [
             0.1111111111111111,
             "#46039f"
            ],
            [
             0.2222222222222222,
             "#7201a8"
            ],
            [
             0.3333333333333333,
             "#9c179e"
            ],
            [
             0.4444444444444444,
             "#bd3786"
            ],
            [
             0.5555555555555556,
             "#d8576b"
            ],
            [
             0.6666666666666666,
             "#ed7953"
            ],
            [
             0.7777777777777778,
             "#fb9f3a"
            ],
            [
             0.8888888888888888,
             "#fdca26"
            ],
            [
             1.0,
             "#f0f921"
            ]
           ]
          },
          "colorway": [
           "#636efa",
           "#EF553B",
           "#00cc96",
           "#ab63fa",
           "#FFA15A",
           "#19d3f3",
           "#FF6692",
           "#B6E880",
           "#FF97FF",
           "#FECB52"
          ],
          "font": {
           "color": "#2a3f5f"
          },
          "geo": {
           "bgcolor": "white",
           "lakecolor": "white",
           "landcolor": "#E5ECF6",
           "showlakes": true,
           "showland": true,
           "subunitcolor": "white"
          },
          "hoverlabel": {
           "align": "left"
          },
          "hovermode": "closest",
          "mapbox": {
           "style": "light"
          },
          "paper_bgcolor": "white",
          "plot_bgcolor": "#E5ECF6",
          "polar": {
           "angularaxis": {
            "gridcolor": "white",
            "linecolor": "white",
            "ticks": ""
           },
           "bgcolor": "#E5ECF6",
           "radialaxis": {
            "gridcolor": "white",
            "linecolor": "white",
            "ticks": ""
           }
          },
          "scene": {
           "xaxis": {
            "backgroundcolor": "#E5ECF6",
            "gridcolor": "white",
            "gridwidth": 2,
            "linecolor": "white",
            "showbackground": true,
            "ticks": "",
            "zerolinecolor": "white"
           },
           "yaxis": {
            "backgroundcolor": "#E5ECF6",
            "gridcolor": "white",
            "gridwidth": 2,
            "linecolor": "white",
            "showbackground": true,
            "ticks": "",
            "zerolinecolor": "white"
           },
           "zaxis": {
            "backgroundcolor": "#E5ECF6",
            "gridcolor": "white",
            "gridwidth": 2,
            "linecolor": "white",
            "showbackground": true,
            "ticks": "",
            "zerolinecolor": "white"
           }
          },
          "shapedefaults": {
           "line": {
            "color": "#2a3f5f"
           }
          },
          "ternary": {
           "aaxis": {
            "gridcolor": "white",
            "linecolor": "white",
            "ticks": ""
           },
           "baxis": {
            "gridcolor": "white",
            "linecolor": "white",
            "ticks": ""
           },
           "bgcolor": "#E5ECF6",
           "caxis": {
            "gridcolor": "white",
            "linecolor": "white",
            "ticks": ""
           }
          },
          "title": {
           "x": 0.05
          },
          "xaxis": {
           "automargin": true,
           "gridcolor": "white",
           "linecolor": "white",
           "ticks": "",
           "title": {
            "standoff": 15
           },
           "zerolinecolor": "white",
           "zerolinewidth": 2
          },
          "yaxis": {
           "automargin": true,
           "gridcolor": "white",
           "linecolor": "white",
           "ticks": "",
           "title": {
            "standoff": 15
           },
           "zerolinecolor": "white",
           "zerolinewidth": 2
          }
         }
        }
       }
      },
      "text/html": "<div>\n        \n        \n            <div id=\"8758c7fe-eb12-419c-ba58-026a7d15ec2b\" class=\"plotly-graph-div\" style=\"height:525px; width:100%;\"></div>\n            <script type=\"text/javascript\">\n                require([\"plotly\"], function(Plotly) {\n                    window.PLOTLYENV=window.PLOTLYENV || {};\n                    \n                if (document.getElementById(\"8758c7fe-eb12-419c-ba58-026a7d15ec2b\")) {\n                    Plotly.newPlot(\n                        '8758c7fe-eb12-419c-ba58-026a7d15ec2b',\n                        [{\"name\": \"grid_0.5\", \"type\": \"scatter\", \"x\": [\"2020-04-11T21:01:25\", \"2020-04-11T22:01:25\", \"2020-04-11T23:01:25\", \"2020-04-11T23:01:25\", \"2020-04-12T01:01:25\", \"2020-04-12T01:01:25\", \"2020-04-12T02:01:25\"], \"y\": [3, 5]}, {\"name\": \"grid_1.0\", \"type\": \"scatter\", \"x\": [\"2020-04-11T21:01:25\", \"2020-04-11T22:01:25\", \"2020-04-11T23:01:25\", \"2020-04-11T23:01:25\", \"2020-04-12T01:01:25\", \"2020-04-12T01:01:25\", \"2020-04-12T02:01:25\"], \"y\": [3, 3, 5]}, {\"name\": \"grid_1.5\", \"type\": \"scatter\", \"x\": [\"2020-04-11T21:01:25\", \"2020-04-11T22:01:25\", \"2020-04-11T23:01:25\", \"2020-04-11T23:01:25\", \"2020-04-12T01:01:25\", \"2020-04-12T01:01:25\", \"2020-04-12T02:01:25\"], \"y\": [1, 3, 3, 5]}, {\"name\": \"grid_2.0\", \"type\": \"scatter\", \"x\": [\"2020-04-11T21:01:25\", \"2020-04-11T22:01:25\", \"2020-04-11T23:01:25\", \"2020-04-11T23:01:25\", \"2020-04-12T01:01:25\", \"2020-04-12T01:01:25\", \"2020-04-12T02:01:25\"], \"y\": [1, 3, 3, 3, 5]}, {\"name\": \"grid_2.5\", \"type\": \"scatter\", \"x\": [\"2020-04-11T21:01:25\", \"2020-04-11T22:01:25\", \"2020-04-11T23:01:25\", \"2020-04-11T23:01:25\", \"2020-04-12T01:01:25\", \"2020-04-12T01:01:25\", \"2020-04-12T02:01:25\"], \"y\": [1, 3, 3, 3, 3, 5]}, {\"name\": \"grid_3.0\", \"type\": \"scatter\", \"x\": [\"2020-04-11T21:01:25\", \"2020-04-11T22:01:25\", \"2020-04-11T23:01:25\", \"2020-04-11T23:01:25\", \"2020-04-12T01:01:25\", \"2020-04-12T01:01:25\", \"2020-04-12T02:01:25\"], \"y\": [1, 1, 3, 3, 3, 3, 5]}, {\"name\": \"grid_3.5\", \"type\": \"scatter\", \"x\": [\"2020-04-11T21:01:25\", \"2020-04-11T22:01:25\", \"2020-04-11T23:01:25\", \"2020-04-11T23:01:25\", \"2020-04-12T01:01:25\", \"2020-04-12T01:01:25\", \"2020-04-12T02:01:25\"], \"y\": [1, 1, 3, 3, 3, 3, 5]}, {\"name\": \"grid_4.0\", \"type\": \"scatter\", \"x\": [\"2020-04-11T21:01:25\", \"2020-04-11T22:01:25\", \"2020-04-11T23:01:25\", \"2020-04-11T23:01:25\", \"2020-04-12T01:01:25\", \"2020-04-12T01:01:25\", \"2020-04-12T02:01:25\"], \"y\": [1, 1, 3, 3, 3, 3, 3, 3, 5]}, {\"name\": \"grid_4.5\", \"type\": \"scatter\", \"x\": [\"2020-04-11T21:01:25\", \"2020-04-11T22:01:25\", \"2020-04-11T23:01:25\", \"2020-04-11T23:01:25\", \"2020-04-12T01:01:25\", \"2020-04-12T01:01:25\", \"2020-04-12T02:01:25\"], \"y\": [1, 1, 1, 3, 3, 3, 3, 3, 3, 5]}, {\"name\": \"slice+int\", \"type\": \"scatter\", \"x\": [\"2020-04-11T21:01:25\", \"2020-04-11T22:01:25\", \"2020-04-11T23:01:25\", \"2020-04-11T23:01:25\", \"2020-04-12T01:01:25\", \"2020-04-12T01:01:25\", \"2020-04-12T02:01:25\"], \"y\": [1, 3, 5]}],\n                        {\"template\": {\"data\": {\"bar\": [{\"error_x\": {\"color\": \"#2a3f5f\"}, \"error_y\": {\"color\": \"#2a3f5f\"}, \"marker\": {\"line\": {\"color\": \"#E5ECF6\", \"width\": 0.5}}, \"type\": \"bar\"}], \"barpolar\": [{\"marker\": {\"line\": {\"color\": \"#E5ECF6\", \"width\": 0.5}}, \"type\": \"barpolar\"}], \"carpet\": [{\"aaxis\": {\"endlinecolor\": \"#2a3f5f\", \"gridcolor\": \"white\", \"linecolor\": \"white\", \"minorgridcolor\": \"white\", \"startlinecolor\": \"#2a3f5f\"}, \"baxis\": {\"endlinecolor\": \"#2a3f5f\", \"gridcolor\": \"white\", \"linecolor\": \"white\", \"minorgridcolor\": \"white\", \"startlinecolor\": \"#2a3f5f\"}, \"type\": \"carpet\"}], \"choropleth\": [{\"colorbar\": {\"outlinewidth\": 0, \"ticks\": \"\"}, \"type\": \"choropleth\"}], \"contour\": [{\"colorbar\": {\"outlinewidth\": 0, \"ticks\": \"\"}, \"colorscale\": [[0.0, \"#0d0887\"], [0.1111111111111111, \"#46039f\"], [0.2222222222222222, \"#7201a8\"], [0.3333333333333333, \"#9c179e\"], [0.4444444444444444, \"#bd3786\"], [0.5555555555555556, \"#d8576b\"], [0.6666666666666666, \"#ed7953\"], [0.7777777777777778, \"#fb9f3a\"], [0.8888888888888888, \"#fdca26\"], [1.0, \"#f0f921\"]], \"type\": \"contour\"}], \"contourcarpet\": [{\"colorbar\": {\"outlinewidth\": 0, \"ticks\": \"\"}, \"type\": \"contourcarpet\"}], \"heatmap\": [{\"colorbar\": {\"outlinewidth\": 0, \"ticks\": \"\"}, \"colorscale\": [[0.0, \"#0d0887\"], [0.1111111111111111, \"#46039f\"], [0.2222222222222222, \"#7201a8\"], [0.3333333333333333, \"#9c179e\"], [0.4444444444444444, \"#bd3786\"], [0.5555555555555556, \"#d8576b\"], [0.6666666666666666, \"#ed7953\"], [0.7777777777777778, \"#fb9f3a\"], [0.8888888888888888, \"#fdca26\"], [1.0, \"#f0f921\"]], \"type\": \"heatmap\"}], \"heatmapgl\": [{\"colorbar\": {\"outlinewidth\": 0, \"ticks\": \"\"}, \"colorscale\": [[0.0, \"#0d0887\"], [0.1111111111111111, \"#46039f\"], [0.2222222222222222, \"#7201a8\"], [0.3333333333333333, \"#9c179e\"], [0.4444444444444444, \"#bd3786\"], [0.5555555555555556, \"#d8576b\"], [0.6666666666666666, \"#ed7953\"], [0.7777777777777778, \"#fb9f3a\"], [0.8888888888888888, \"#fdca26\"], [1.0, \"#f0f921\"]], \"type\": \"heatmapgl\"}], \"histogram\": [{\"marker\": {\"colorbar\": {\"outlinewidth\": 0, \"ticks\": \"\"}}, \"type\": \"histogram\"}], \"histogram2d\": [{\"colorbar\": {\"outlinewidth\": 0, \"ticks\": \"\"}, \"colorscale\": [[0.0, \"#0d0887\"], [0.1111111111111111, \"#46039f\"], [0.2222222222222222, \"#7201a8\"], [0.3333333333333333, \"#9c179e\"], [0.4444444444444444, \"#bd3786\"], [0.5555555555555556, \"#d8576b\"], [0.6666666666666666, \"#ed7953\"], [0.7777777777777778, \"#fb9f3a\"], [0.8888888888888888, \"#fdca26\"], [1.0, \"#f0f921\"]], \"type\": \"histogram2d\"}], \"histogram2dcontour\": [{\"colorbar\": {\"outlinewidth\": 0, \"ticks\": \"\"}, \"colorscale\": [[0.0, \"#0d0887\"], [0.1111111111111111, \"#46039f\"], [0.2222222222222222, \"#7201a8\"], [0.3333333333333333, \"#9c179e\"], [0.4444444444444444, \"#bd3786\"], [0.5555555555555556, \"#d8576b\"], [0.6666666666666666, \"#ed7953\"], [0.7777777777777778, \"#fb9f3a\"], [0.8888888888888888, \"#fdca26\"], [1.0, \"#f0f921\"]], \"type\": \"histogram2dcontour\"}], \"mesh3d\": [{\"colorbar\": {\"outlinewidth\": 0, \"ticks\": \"\"}, \"type\": \"mesh3d\"}], \"parcoords\": [{\"line\": {\"colorbar\": {\"outlinewidth\": 0, \"ticks\": \"\"}}, \"type\": \"parcoords\"}], \"pie\": [{\"automargin\": true, \"type\": \"pie\"}], \"scatter\": [{\"marker\": {\"colorbar\": {\"outlinewidth\": 0, \"ticks\": \"\"}}, \"type\": \"scatter\"}], \"scatter3d\": [{\"line\": {\"colorbar\": {\"outlinewidth\": 0, \"ticks\": \"\"}}, \"marker\": {\"colorbar\": {\"outlinewidth\": 0, \"ticks\": \"\"}}, \"type\": \"scatter3d\"}], \"scattercarpet\": [{\"marker\": {\"colorbar\": {\"outlinewidth\": 0, \"ticks\": \"\"}}, \"type\": \"scattercarpet\"}], \"scattergeo\": [{\"marker\": {\"colorbar\": {\"outlinewidth\": 0, \"ticks\": \"\"}}, \"type\": \"scattergeo\"}], \"scattergl\": [{\"marker\": {\"colorbar\": {\"outlinewidth\": 0, \"ticks\": \"\"}}, \"type\": \"scattergl\"}], \"scattermapbox\": [{\"marker\": {\"colorbar\": {\"outlinewidth\": 0, \"ticks\": \"\"}}, \"type\": \"scattermapbox\"}], \"scatterpolar\": [{\"marker\": {\"colorbar\": {\"outlinewidth\": 0, \"ticks\": \"\"}}, \"type\": \"scatterpolar\"}], \"scatterpolargl\": [{\"marker\": {\"colorbar\": {\"outlinewidth\": 0, \"ticks\": \"\"}}, \"type\": \"scatterpolargl\"}], \"scatterternary\": [{\"marker\": {\"colorbar\": {\"outlinewidth\": 0, \"ticks\": \"\"}}, \"type\": \"scatterternary\"}], \"surface\": [{\"colorbar\": {\"outlinewidth\": 0, \"ticks\": \"\"}, \"colorscale\": [[0.0, \"#0d0887\"], [0.1111111111111111, \"#46039f\"], [0.2222222222222222, \"#7201a8\"], [0.3333333333333333, \"#9c179e\"], [0.4444444444444444, \"#bd3786\"], [0.5555555555555556, \"#d8576b\"], [0.6666666666666666, \"#ed7953\"], [0.7777777777777778, \"#fb9f3a\"], [0.8888888888888888, \"#fdca26\"], [1.0, \"#f0f921\"]], \"type\": \"surface\"}], \"table\": [{\"cells\": {\"fill\": {\"color\": \"#EBF0F8\"}, \"line\": {\"color\": \"white\"}}, \"header\": {\"fill\": {\"color\": \"#C8D4E3\"}, \"line\": {\"color\": \"white\"}}, \"type\": \"table\"}]}, \"layout\": {\"annotationdefaults\": {\"arrowcolor\": \"#2a3f5f\", \"arrowhead\": 0, \"arrowwidth\": 1}, \"coloraxis\": {\"colorbar\": {\"outlinewidth\": 0, \"ticks\": \"\"}}, \"colorscale\": {\"diverging\": [[0, \"#8e0152\"], [0.1, \"#c51b7d\"], [0.2, \"#de77ae\"], [0.3, \"#f1b6da\"], [0.4, \"#fde0ef\"], [0.5, \"#f7f7f7\"], [0.6, \"#e6f5d0\"], [0.7, \"#b8e186\"], [0.8, \"#7fbc41\"], [0.9, \"#4d9221\"], [1, \"#276419\"]], \"sequential\": [[0.0, \"#0d0887\"], [0.1111111111111111, \"#46039f\"], [0.2222222222222222, \"#7201a8\"], [0.3333333333333333, \"#9c179e\"], [0.4444444444444444, \"#bd3786\"], [0.5555555555555556, \"#d8576b\"], [0.6666666666666666, \"#ed7953\"], [0.7777777777777778, \"#fb9f3a\"], [0.8888888888888888, \"#fdca26\"], [1.0, \"#f0f921\"]], \"sequentialminus\": [[0.0, \"#0d0887\"], [0.1111111111111111, \"#46039f\"], [0.2222222222222222, \"#7201a8\"], [0.3333333333333333, \"#9c179e\"], [0.4444444444444444, \"#bd3786\"], [0.5555555555555556, \"#d8576b\"], [0.6666666666666666, \"#ed7953\"], [0.7777777777777778, \"#fb9f3a\"], [0.8888888888888888, \"#fdca26\"], [1.0, \"#f0f921\"]]}, \"colorway\": [\"#636efa\", \"#EF553B\", \"#00cc96\", \"#ab63fa\", \"#FFA15A\", \"#19d3f3\", \"#FF6692\", \"#B6E880\", \"#FF97FF\", \"#FECB52\"], \"font\": {\"color\": \"#2a3f5f\"}, \"geo\": {\"bgcolor\": \"white\", \"lakecolor\": \"white\", \"landcolor\": \"#E5ECF6\", \"showlakes\": true, \"showland\": true, \"subunitcolor\": \"white\"}, \"hoverlabel\": {\"align\": \"left\"}, \"hovermode\": \"closest\", \"mapbox\": {\"style\": \"light\"}, \"paper_bgcolor\": \"white\", \"plot_bgcolor\": \"#E5ECF6\", \"polar\": {\"angularaxis\": {\"gridcolor\": \"white\", \"linecolor\": \"white\", \"ticks\": \"\"}, \"bgcolor\": \"#E5ECF6\", \"radialaxis\": {\"gridcolor\": \"white\", \"linecolor\": \"white\", \"ticks\": \"\"}}, \"scene\": {\"xaxis\": {\"backgroundcolor\": \"#E5ECF6\", \"gridcolor\": \"white\", \"gridwidth\": 2, \"linecolor\": \"white\", \"showbackground\": true, \"ticks\": \"\", \"zerolinecolor\": \"white\"}, \"yaxis\": {\"backgroundcolor\": \"#E5ECF6\", \"gridcolor\": \"white\", \"gridwidth\": 2, \"linecolor\": \"white\", \"showbackground\": true, \"ticks\": \"\", \"zerolinecolor\": \"white\"}, \"zaxis\": {\"backgroundcolor\": \"#E5ECF6\", \"gridcolor\": \"white\", \"gridwidth\": 2, \"linecolor\": \"white\", \"showbackground\": true, \"ticks\": \"\", \"zerolinecolor\": \"white\"}}, \"shapedefaults\": {\"line\": {\"color\": \"#2a3f5f\"}}, \"ternary\": {\"aaxis\": {\"gridcolor\": \"white\", \"linecolor\": \"white\", \"ticks\": \"\"}, \"baxis\": {\"gridcolor\": \"white\", \"linecolor\": \"white\", \"ticks\": \"\"}, \"bgcolor\": \"#E5ECF6\", \"caxis\": {\"gridcolor\": \"white\", \"linecolor\": \"white\", \"ticks\": \"\"}}, \"title\": {\"x\": 0.05}, \"xaxis\": {\"automargin\": true, \"gridcolor\": \"white\", \"linecolor\": \"white\", \"ticks\": \"\", \"title\": {\"standoff\": 15}, \"zerolinecolor\": \"white\", \"zerolinewidth\": 2}, \"yaxis\": {\"automargin\": true, \"gridcolor\": \"white\", \"linecolor\": \"white\", \"ticks\": \"\", \"title\": {\"standoff\": 15}, \"zerolinecolor\": \"white\", \"zerolinewidth\": 2}}}},\n                        {\"responsive\": true}\n                    ).then(function(){\n                            \nvar gd = document.getElementById('8758c7fe-eb12-419c-ba58-026a7d15ec2b');\nvar x = new MutationObserver(function (mutations, observer) {{\n        var display = window.getComputedStyle(gd).display;\n        if (!display || display === 'none') {{\n            console.log([gd, 'removed!']);\n            Plotly.purge(gd);\n            observer.disconnect();\n        }}\n}});\n\n// Listen for the removal of the full notebook cells\nvar notebookContainer = gd.closest('#notebook-container');\nif (notebookContainer) {{\n    x.observe(notebookContainer, {childList: true});\n}}\n\n// Listen for the clearing of the current output cell\nvar outputEl = gd.closest('.output');\nif (outputEl) {{\n    x.observe(outputEl, {childList: true});\n}}\n\n                        })\n                };\n                });\n            </script>\n        </div>"
     },
     "metadata": {},
     "output_type": "display_data"
    }
   ],
   "source": [
    "fig = go.Figure()\n",
    "\n",
    "for i in range(1, 10):\n",
    "    draw_word(fig, word.slice().to_grid(i/2).integrate(), name=f\"grid_{i/2}\")\n",
    "\n",
    "draw_word(fig, word.slice().integrate(), name=\"slice+int\")\n",
    "\n",
    "# for mov in (False,):\n",
    "#     for i in range(1, 5):\n",
    "#         draw_word(fig, word.get_smooth(i, mov=mov), name=f'smooth_{i}_{mov}')\n",
    "\n",
    "fig.show()\n",
    "\n"
   ],
   "metadata": {
    "collapsed": false,
    "pycharm": {
     "name": "#%%\n",
     "is_executing": false
    }
   }
  },
  {
   "cell_type": "code",
   "execution_count": 244,
   "outputs": [
    {
     "data": {
      "text/plain": "array([1586617285, 1586620885, 1586620885, 1586628085, 1586628085])"
     },
     "metadata": {},
     "output_type": "execute_result",
     "execution_count": 244
    }
   ],
   "source": [
    "word.slice().t"
   ],
   "metadata": {
    "collapsed": false,
    "pycharm": {
     "name": "#%%\n",
     "is_executing": false
    }
   }
  },
  {
   "cell_type": "code",
   "execution_count": 249,
   "outputs": [
    {
     "name": "stdout",
     "text": [
      "10800.0\n",
      "[0 0 1] [1 2 2]\n",
      "[1586617285 1586628085]\n",
      "[3 2 0]\n",
      "5 5\n",
      "5400.0\n",
      "[0 0 2] [1 2 2]\n",
      "[1586617285 1586622685 1586628085]\n",
      "[3 0 2 0]\n",
      "5 5\n",
      "3600.0\n",
      "[0 1 3] [1 2 2]\n",
      "[1586617285 1586620885 1586624485 1586628085]\n",
      "[1 2 0 2 0]\n",
      "5 5\n",
      "2700.0\n",
      "[0 1 4] [1 2 2]\n",
      "[1586617285 1586619985 1586622685 1586625385 1586628085]\n",
      "[1 2 0 0 2 0]\n",
      "5 5\n",
      "2160.0\n",
      "[0 1 5] [1 2 2]\n",
      "[1586617285 1586619445 1586621605 1586623765 1586625925 1586628085]\n",
      "[1 2 0 0 0 2 0]\n",
      "5 5\n",
      "1800.0\n",
      "[0 2 6] [1 2 2]\n",
      "[1586617285 1586619085 1586620885 1586622685 1586624485 1586626285\n",
      " 1586628085]\n",
      "[1 0 2 0 0 0 2 0]\n",
      "5 5\n",
      "1542.857142857143\n",
      "[0 2 6] [1 2 2]\n",
      "[1586617285 1586619085 1586620885 1586622685 1586624485 1586626285\n",
      " 1586628085]\n",
      "[1 0 2 0 0 0 2 0]\n",
      "5 5\n",
      "1350.0\n",
      "[0 2 8] [1 2 2]\n",
      "[1586617285 1586618635 1586619985 1586621335 1586622685 1586624035\n",
      " 1586625385 1586626735 1586628085]\n",
      "[1 0 2 0 0 0 0 0 2 0]\n",
      "5 5\n",
      "1200.0\n",
      "[0 3 9] [1 2 2]\n",
      "[1586617285 1586618485 1586619685 1586620885 1586622085 1586623285\n",
      " 1586624485 1586625685 1586626885 1586628085]\n",
      "[1 0 0 2 0 0 0 0 0 2 0]\n",
      "5 5\n"
     ],
     "output_type": "stream"
    },
    {
     "data": {
      "text/plain": "<Figure size 432x288 with 1 Axes>",
      "image/png": "[encoded data removed]"
     },
     "metadata": {
      "needs_background": "light"
     },
     "output_type": "display_data"
    }
   ],
   "source": [
    "import matplotlib\n",
    "import matplotlib.pyplot as plt\n",
    "import numpy as np\n",
    "\n",
    "# Data for plotting\n",
    "from datetime import datetime\n",
    "\n",
    "fig, ax = plt.subplots()\n",
    "    \n",
    "def plot(ax, word, name):\n",
    "    t = [datetime.fromtimestamp(ts) for ts in word.t]\n",
    "    s = word.v\n",
    "    \n",
    "    ax.plot(t, s, label=[name])\n",
    "    \n",
    "ax.set(xlabel='time (s)', ylabel='y',\n",
    "       title='About as simple as it gets, folks')\n",
    "ax.grid()\n",
    "\n",
    "\n",
    "for i in range(1, 10):\n",
    "    plot(ax, word.slice().to_grid(i/2).integrate(), name=f\"grid_{i/2}\")\n",
    "\n",
    "plot(ax, word.slice().integrate(), name=\"slice+int\")\n",
    "\n",
    "\n",
    "fig.savefig(\"test.png\")\n",
    "plt.show()"
   ],
   "metadata": {
    "collapsed": false,
    "pycharm": {
     "name": "#%%\n",
     "is_executing": false
    }
   }
  },
  {
   "cell_type": "code",
   "execution_count": null,
   "outputs": [],
   "source": [
    "\n"
   ],
   "metadata": {
    "collapsed": false,
    "pycharm": {
     "name": "#%%\n"
    }
   }
  }
 ],
 "metadata": {
  "kernelspec": {
   "display_name": "Python 3",
   "language": "python",
   "name": "python3"
  },
  "language_info": {
   "codemirror_mode": {
    "name": "ipython",
    "version": 2
   },
   "file_extension": ".py",
   "mimetype": "text/x-python",
   "name": "python",
   "nbconvert_exporter": "python",
   "pygments_lexer": "ipython2",
   "version": "2.7.6"
  },
  "pycharm": {
   "stem_cell": {
    "cell_type": "raw",
    "source": [],
    "metadata": {
     "collapsed": false
    }
   }
  }
 },
 "nbformat": 4,
 "nbformat_minor": 0
}