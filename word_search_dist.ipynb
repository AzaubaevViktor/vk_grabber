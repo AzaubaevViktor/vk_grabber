{
 "cells": [
  {
   "cell_type": "code",
   "execution_count": 1,
   "outputs": [
    {
     "name": "stdout",
     "output_type": "stream",
     "text": [
      "3.8.2 (default, Mar 11 2020, 00:28:52) \n",
      "[Clang 11.0.0 (clang-1100.0.33.17)]\n",
      "HEY\n"
     ]
    }
   ],
   "source": [
    "from sys import version\n",
    "\n",
    "print(version)\n",
    "print(\"HEY\")"
   ],
   "metadata": {
    "collapsed": false,
    "pycharm": {
     "name": "#%% Check version\n"
    }
   }
  },
  {
   "cell_type": "code",
   "execution_count": 2,
   "outputs": [],
   "source": [
    "from app import AppContext, Word as WordModel\n",
    "from core import LoadConfig\n",
    "import numpy as np\n",
    "\n",
    "from time import time\n",
    "\n",
    "from time_series import TimeSeries"
   ],
   "metadata": {
    "collapsed": false,
    "pycharm": {
     "name": "#%% Imports\n"
    }
   }
  },
  {
   "cell_type": "code",
   "execution_count": 10,
   "outputs": [
    {
     "name": "stdout",
     "output_type": "stream",
     "text": [
      "[2020-04-18 16:53:10.160345] [  INFO   \u001B[0m] /\u001B[31m55384\u001B[0m/ LoadConfig \u001B[90mcore/config/__init__.py:13 LoadConfig\u001B[0m: Load config source=configs/main.yaml\n"
     ]
    }
   ],
   "source": [
    "ctx = AppContext(LoadConfig(\"configs/main.yaml\"))\n",
    "\n",
    "\n",
    "async def _download_slice(word: str, from_: int, to_: int):\n",
    "    from_ = TimeSeries._normalize(from_) or 0\n",
    "    to_ = TimeSeries._normalize(to_) or float(\"+inf\")\n",
    "\n",
    "    async for word in ctx.db.find(WordModel(word=word)):\n",
    "        if to_ >= word.date >= from_:\n",
    "            yield word\n",
    "\n",
    "\n",
    "async def download_word(alpha, from_: int, to_: int):\n",
    "    items = []\n",
    "    async for word in _download_slice(alpha, from_, to_):\n",
    "        items.append(word.date)\n",
    "\n",
    "    word_ts = np.array(items)\n",
    "    return TimeSeries(alpha, word_ts)\n",
    "\n",
    "\n",
    "async def _download(word: str, from_: int, to_: int):\n",
    "    word_p = []\n",
    "    async for word in _download_slice(word, from_, to_):\n",
    "        word_p.append((word.date, word.from_id, word.post_id))\n",
    "\n",
    "    return word_p\n",
    "\n",
    "async def download_pair(alpha, beta, from_: int, to_: int):\n",
    "    word_alpha_p = await _download(alpha, from_, to_)\n",
    "    word_beta_p = await _download(beta, from_, to_)\n",
    "\n",
    "    # common = set(word_alpha_p).intersection(word_beta_p)\n",
    "\n",
    "    common = [item for item in word_alpha_p if item in word_beta_p]\n",
    "\n",
    "    DATE_INDEX = 0\n",
    "    word_ts = np.array(tuple(word_info[DATE_INDEX] for word_info in common))\n",
    "    return TimeSeries(f\"{alpha}&{beta}\", word_ts)"
   ],
   "metadata": {
    "collapsed": false,
    "pycharm": {
     "name": "#%% Load config\n"
    }
   }
  },
  {
   "cell_type": "code",
   "execution_count": 11,
   "outputs": [],
   "source": [
    "async def word_counter():\n",
    "    async for item in ctx.db.db.Word.aggregate([\n",
    "       { \"$match\": {}},\n",
    "       { \"$group\": {\n",
    "           \"_id\": \"$word\",\n",
    "           \"count\": { \"$sum\": 1 }\n",
    "       }},\n",
    "       {'$sort': {'count': -1}}\n",
    "    ]):\n",
    "        yield item['_id'], item['count']\n"
   ],
   "metadata": {
    "collapsed": false,
    "pycharm": {
     "name": "#%%\n"
    }
   }
  },
  {
   "cell_type": "code",
   "execution_count": 12,
   "outputs": [],
   "source": [
    "if False:\n",
    "    import pymongo\n",
    "\n",
    "    await ctx.db.db.Word.create_index([('word', pymongo.HASHED)])\n",
    "    await ctx.db.db.Word.create_index([('date', pymongo.ASCENDING)])\n"
   ],
   "metadata": {
    "collapsed": false,
    "pycharm": {
     "name": "#%% CREATING INDEX\n"
    }
   }
  },
  {
   "cell_type": "code",
   "execution_count": 13,
   "metadata": {
    "collapsed": true
   },
   "outputs": [],
   "source": [
    "async def do_dist_search(source_word: str,\n",
    "                         min_items: int,\n",
    "                         from_, to_, period,\n",
    "                         check_info):\n",
    "    dists = {}\n",
    "\n",
    "    word = await download_word(source_word, from_, to_)\n",
    "    async for name, count in word_counter():\n",
    "        if count < min_items:\n",
    "            if check_info(name):\n",
    "                print(\"skipped by count\", name, count)\n",
    "            continue\n",
    "\n",
    "        candidate = await download_word(name, from_, to_)\n",
    "\n",
    "        if len(candidate) < min_items:\n",
    "            if check_info(name):\n",
    "                print(\"skipped by slice\", name, count, candidate)\n",
    "\n",
    "            del candidate\n",
    "            continue\n",
    "\n",
    "        # Calculate core\n",
    "\n",
    "        core = await download_pair(source_word, name, from_, to_)\n",
    "\n",
    "        word_grid = word[from_:to_:period]\n",
    "        candidate_grid = candidate[from_:to_:period]\n",
    "        core_grid = core[from_:to_:period]\n",
    "\n",
    "        print(\"Successfully added!\", name, count, candidate)\n",
    "\n",
    "        dists[name] = {\n",
    "            'dist_words': word_grid.dist(candidate_grid),\n",
    "            'dist_source_core': word_grid.dist(core_grid),\n",
    "            'dist_candidate_core': candidate_grid.dist(core_grid)\n",
    "            }\n",
    "        print(name, dists[name])\n",
    "\n",
    "    return dists"
   ]
  },
  {
   "cell_type": "code",
   "execution_count": 21,
   "outputs": [
    {
     "name": "stdout",
     "output_type": "stream",
     "text": [
      "Successfully added! весь 39085 <TimeSeries of `весь` [2019-11-30T18:07:04Z - 2020-01-31T15:45:01Z] 1741 items, ∑=2582.00>\n",
      "весь {'dist_words': 223.6023255693017, 'dist_source_core': 262.35472170326955, 'dist_candidate_core': 239.06484475974295}\n",
      "Successfully added! все 35295 <TimeSeries of `все` [2019-11-30T20:13:34Z - 2020-01-31T16:47:16Z] 1505 items, ∑=2208.00>\n",
      "все {'dist_words': 209.6854787532985, 'dist_source_core': 284.31144894288025, 'dist_candidate_core': 210.24509506763766}\n",
      "Successfully added! день 34080 <TimeSeries of `день` [2019-11-30T17:42:42Z - 2020-01-31T15:47:20Z] 1029 items, ∑=1340.00>\n",
      "день {'dist_words': 316.83749778080244, 'dist_source_core': 353.4572109888268, 'dist_candidate_core': 127.51470503436065}\n",
      "Successfully added! мой 30660 <TimeSeries of `мой` [2019-12-01T01:19:28Z - 2020-01-31T16:47:16Z] 1290 items, ∑=1951.00>\n",
      "мой {'dist_words': 211.2889017435606, 'dist_source_core': 324.54737712697664, 'dist_candidate_core': 207.27276714513172}\n",
      "Successfully added! который 30425 <TimeSeries of `который` [2019-11-30T17:33:49Z - 2020-01-31T16:34:48Z] 1340 items, ∑=2367.00>\n",
      "который {'dist_words': 272.95604041676745, 'dist_source_core': 313.5554177493988, 'dist_candidate_core': 230.69026854204319}\n",
      "Successfully added! свой 30014 <TimeSeries of `свой` [2019-11-30T17:17:40Z - 2020-01-31T16:47:16Z] 1382 items, ∑=2322.00>\n",
      "свой {'dist_words': 286.8135282722905, 'dist_source_core': 325.45660232971153, 'dist_candidate_core': 228.4162866347319}\n",
      "Successfully added! человек 29672 <TimeSeries of `человек` [2019-11-30T17:33:49Z - 2020-01-31T16:47:16Z] 1232 items, ∑=2292.00>\n",
      "человек {'dist_words': 302.25816779700097, 'dist_source_core': 324.73373708316785, 'dist_candidate_core': 243.71294590152573}\n",
      "Successfully added! так 28593 <TimeSeries of `так` [2019-11-30T18:07:04Z - 2020-01-31T16:59:52Z] 1468 items, ∑=2119.00>\n",
      "так {'dist_words': 290.09136491802025, 'dist_source_core': 328.38239904111794, 'dist_candidate_core': 206.50423724466285}\n",
      "Successfully added! год 28473 <TimeSeries of `год` [2019-11-30T17:33:49Z - 2020-01-31T16:47:16Z] 2142 items, ∑=3560.00>\n",
      "год {'dist_words': 337.6210893886814, 'dist_source_core': 86.55056325639943, 'dist_candidate_core': 396.268848132174}\n",
      "Successfully added! такой 24696 <TimeSeries of `такой` [2019-11-30T17:42:42Z - 2020-01-31T16:34:48Z] 1271 items, ∑=1785.00>\n",
      "такой {'dist_words': 312.1938500355188, 'dist_source_core': 351.88492437159056, 'dist_candidate_core': 179.8054504179448}\n",
      "Successfully added! очень 22563 <TimeSeries of `очень` [2019-12-01T01:45:25Z - 2020-01-31T16:47:16Z] 1126 items, ∑=1562.00>\n",
      "очень {'dist_words': 278.54622596617605, 'dist_source_core': 332.76117561999325, 'dist_candidate_core': 149.38540758722053}\n",
      "Successfully added! спасибо 22435 <TimeSeries of `спасибо` [2019-11-30T17:11:01Z - 2020-01-31T15:37:36Z] 912 items, ∑=1036.00>\n",
      "спасибо {'dist_words': 272.35271248878723, 'dist_source_core': 364.23755984247424, 'dist_candidate_core': 129.94229488507582}\n",
      "Successfully added! если 22149 <TimeSeries of `если` [2019-11-30T18:07:04Z - 2020-01-31T14:57:52Z] 1062 items, ∑=1577.00>\n",
      "если {'dist_words': 329.0455895464943, 'dist_source_core': 353.05948507298314, 'dist_candidate_core': 162.97852619286996}\n",
      "Successfully added! мочь 22073 <TimeSeries of `мочь` [2019-11-30T17:01:01Z - 2020-01-31T14:50:33Z] 1120 items, ∑=1720.00>\n",
      "мочь {'dist_words': 313.78336475982917, 'dist_source_core': 351.4896869041822, 'dist_candidate_core': 168.6801707374047}\n",
      "Successfully added! себя 20444 <TimeSeries of `себя` [2019-11-30T17:31:30Z - 2020-01-31T16:47:16Z] 1027 items, ∑=1725.00>\n",
      "себя {'dist_words': 263.39893697583517, 'dist_source_core': 322.7708165246666, 'dist_candidate_core': 169.20401886480118}\n",
      "Successfully added! кто 19932 <TimeSeries of `кто` [2019-11-30T18:07:04Z - 2020-01-31T16:47:16Z] 950 items, ∑=1330.00>\n",
      "кто {'dist_words': 297.7885155609598, 'dist_source_core': 349.38803642941184, 'dist_candidate_core': 133.88054376943649}\n",
      "Successfully added! или 19738 <TimeSeries of `или` [2019-11-30T18:07:04Z - 2020-01-31T16:47:16Z] 988 items, ∑=1521.00>\n",
      "или {'dist_words': 335.98958317185964, 'dist_source_core': 375.6700680118127, 'dist_candidate_core': 153.5545505675426}\n",
      "Successfully added! самый 19248 <TimeSeries of `самый` [2019-11-30T18:07:04Z - 2020-01-31T16:47:16Z] 876 items, ∑=1184.00>\n",
      "самый {'dist_words': 293.6596669616037, 'dist_source_core': 346.5198407017988, 'dist_candidate_core': 106.3296760081587}\n",
      "Successfully added! один 18897 <TimeSeries of `один` [2019-11-30T17:01:01Z - 2020-01-31T16:47:16Z] 976 items, ∑=1357.00>\n",
      "один {'dist_words': 314.1862504948299, 'dist_source_core': 351.83945202322036, 'dist_candidate_core': 123.25583150504482}\n",
      "Successfully added! когда 18862 <TimeSeries of `когда` [2019-11-30T17:48:33Z - 2020-01-31T16:47:16Z] 885 items, ∑=1208.00>\n",
      "когда {'dist_words': 335.4817431694309, 'dist_source_core': 368.1236205407091, 'dist_candidate_core': 118.1397477566293}\n",
      "Successfully added! жизнь 18774 <TimeSeries of `жизнь` [2019-11-30T17:31:30Z - 2020-01-31T16:47:16Z] 802 items, ∑=1188.00>\n",
      "жизнь {'dist_words': 304.76876480374426, 'dist_source_core': 340.02352859765455, 'dist_candidate_core': 114.64728518373211}\n",
      "Successfully added! тот 18744 <TimeSeries of `тот` [2019-11-30T18:07:04Z - 2020-01-31T16:34:48Z] 981 items, ∑=1447.00>\n",
      "тот {'dist_words': 309.95967479657736, 'dist_source_core': 336.87089515124336, 'dist_candidate_core': 132.33669181296622}\n",
      "Successfully added! только 18650 <TimeSeries of `только` [2019-11-30T18:07:04Z - 2020-01-31T16:10:36Z] 1066 items, ∑=1371.00>\n",
      "только {'dist_words': 315.9034662677825, 'dist_source_core': 340.79172525165575, 'dist_candidate_core': 122.68659258452001}\n",
      "Successfully added! новый 18269 <TimeSeries of `новый` [2019-11-30T17:33:49Z - 2020-01-31T14:50:33Z] 1501 items, ∑=2080.00>\n",
      "новый {'dist_words': 0.0, 'dist_source_core': 0.0, 'dist_candidate_core': 0.0}\n",
      "Successfully added! хороший 17783 <TimeSeries of `хороший` [2019-11-30T17:31:30Z - 2020-01-31T16:47:16Z] 835 items, ∑=1015.00>\n",
      "хороший {'dist_words': 303.11219045099455, 'dist_source_core': 347.522661131616, 'dist_candidate_core': 92.96773633901172}\n",
      "Successfully added! она 17485 <TimeSeries of `она` [2019-11-30T17:31:30Z - 2020-01-31T16:59:52Z] 735 items, ∑=1258.00>\n",
      "она {'dist_words': 350.0999857183659, 'dist_source_core': 383.96614434087803, 'dist_candidate_core': 142.16891362038328}\n",
      "Successfully added! вот 17401 <TimeSeries of `вот` [2019-11-30T18:07:04Z - 2020-01-31T16:23:27Z] 989 items, ∑=1295.00>\n",
      "вот {'dist_words': 316.8138254558977, 'dist_source_core': 356.27236771885634, 'dist_candidate_core': 126.10709734190222}\n",
      "Successfully added! друг 17058 <TimeSeries of `друг` [2019-11-30T18:03:01Z - 2020-01-31T13:37:07Z] 726 items, ∑=1033.00>\n",
      "друг {'dist_words': 282.5084069545542, 'dist_source_core': 308.88023569014575, 'dist_candidate_core': 86.2902080192185}\n",
      "Successfully added! уже 16609 <TimeSeries of `уже` [2019-11-30T19:32:51Z - 2020-01-31T16:10:36Z] 894 items, ∑=1181.00>\n",
      "уже {'dist_words': 332.14906292205615, 'dist_source_core': 357.53461370893865, 'dist_candidate_core': 101.61692772368194}\n",
      "Successfully added! время 16345 <TimeSeries of `время` [2019-11-30T17:37:21Z - 2020-01-31T14:50:33Z] 828 items, ∑=1179.00>\n",
      "время {'dist_words': 326.8072826605919, 'dist_source_core': 345.44029874929186, 'dist_candidate_core': 105.49881515922347}\n",
      "Successfully added! хотеть 16198 <TimeSeries of `хотеть` [2019-11-30T17:02:53Z - 2020-01-31T15:13:05Z] 853 items, ∑=1166.00>\n",
      "хотеть {'dist_words': 321.93477600284194, 'dist_source_core': 352.797392280612, 'dist_candidate_core': 112.51666543228163}\n",
      "Successfully added! много 16185 <TimeSeries of `много` [2019-11-30T17:01:01Z - 2020-01-31T14:50:33Z] 866 items, ∑=1205.00>\n",
      "много {'dist_words': 272.2076413328619, 'dist_source_core': 311.6167517961767, 'dist_candidate_core': 99.29753269845128}\n",
      "Successfully added! просто 14834 <TimeSeries of `просто` [2019-11-30T17:37:21Z - 2020-01-31T16:23:27Z] 803 items, ∑=1076.00>\n",
      "просто {'dist_words': 322.3414338864925, 'dist_source_core': 356.6763238567988, 'dist_candidate_core': 101.83319694480774}\n",
      "Successfully added! работа 14466 <TimeSeries of `работа` [2019-11-30T21:34:12Z - 2020-01-31T15:43:29Z] 753 items, ∑=1158.00>\n",
      "работа {'dist_words': 340.8225344662527, 'dist_source_core': 368.9132689400044, 'dist_candidate_core': 123.4382436686459}\n",
      "Successfully added! чтобы 14428 <TimeSeries of `чтобы` [2019-11-30T17:33:49Z - 2020-01-31T14:50:33Z] 693 items, ∑=1023.00>\n",
      "чтобы {'dist_words': 325.4612112064969, 'dist_source_core': 357.1890255872932, 'dist_candidate_core': 92.27675763701279}\n",
      "Successfully added! знать 13879 <TimeSeries of `знать` [2019-11-30T17:01:01Z - 2020-01-31T14:50:33Z] 742 items, ∑=964.00>\n",
      "знать {'dist_words': 342.870237845165, 'dist_source_core': 363.44050407184943, 'dist_candidate_core': 93.66429415737889}\n",
      "Successfully added! можно 13236 <TimeSeries of `можно` [2019-11-30T18:03:01Z - 2020-01-31T14:50:33Z] 768 items, ∑=959.00>\n",
      "можно {'dist_words': 349.1575575581889, 'dist_source_core': 369.0081299917388, 'dist_candidate_core': 85.00588214941364}\n",
      "Successfully added! нет 12235 <TimeSeries of `нет` [2019-12-01T02:43:46Z - 2020-01-31T16:47:16Z] 693 items, ∑=906.00>\n",
      "нет {'dist_words': 361.6130528617572, 'dist_source_core': 380.6520721078502, 'dist_candidate_core': 91.72785836374901}\n",
      "Successfully added! каждый 12088 <TimeSeries of `каждый` [2019-11-30T17:42:42Z - 2020-01-31T16:47:16Z] 668 items, ∑=930.00>\n",
      "каждый {'dist_words': 329.3630216038224, 'dist_source_core': 348.9183285526858, 'dist_candidate_core': 76.53757247260981}\n",
      "Successfully added! другой 11700 <TimeSeries of `другой` [2019-11-30T20:13:34Z - 2020-01-31T16:59:52Z] 651 items, ∑=934.00>\n",
      "другой {'dist_words': 328.11888089532425, 'dist_source_core': 360.90719028581293, 'dist_candidate_core': 81.70679286326198}\n",
      "Successfully added! становиться 11232 <TimeSeries of `становиться` [2019-11-30T18:07:04Z - 2020-01-31T14:50:33Z] 602 items, ∑=843.00>\n",
      "становиться {'dist_words': 327.6141022605712, 'dist_source_core': 342.85565475867537, 'dist_candidate_core': 67.94850991743675}\n",
      "Successfully added! первый 10977 <TimeSeries of `первый` [2019-11-30T17:42:42Z - 2020-01-31T16:47:16Z] 584 items, ∑=828.00>\n",
      "первый {'dist_words': 345.1057808846441, 'dist_source_core': 361.73609164693534, 'dist_candidate_core': 93.80298502713013}\n",
      "Successfully added! даже 10914 <TimeSeries of `даже` [2019-11-30T17:01:01Z - 2020-01-31T14:50:33Z] 612 items, ∑=803.00>\n",
      "даже {'dist_words': 356.8459051187221, 'dist_source_core': 372.35869803188433, 'dist_candidate_core': 68.48357467305573}\n",
      "Successfully added! какой 10893 <TimeSeries of `какой` [2019-11-30T17:01:01Z - 2020-01-31T16:59:52Z] 630 items, ∑=782.00>\n",
      "какой {'dist_words': 359.9611090104041, 'dist_source_core': 385.390710837716, 'dist_candidate_core': 82.3286098510111}\n",
      "Successfully added! раз 10834 <TimeSeries of `раз` [2019-11-30T17:02:25Z - 2020-01-31T16:47:16Z] 624 items, ∑=806.00>\n",
      "раз {'dist_words': 343.05101661414733, 'dist_source_core': 374.33273968489584, 'dist_candidate_core': 74.71947537289057}\n",
      "Successfully added! сам 10602 <TimeSeries of `сам` [2019-11-30T18:07:04Z - 2020-01-31T14:55:57Z] 559 items, ∑=740.00>\n",
      "сам {'dist_words': 354.76752951757015, 'dist_source_core': 376.1688450682752, 'dist_candidate_core': 66.83561924602779}\n",
      "Successfully added! ваш 10277 <TimeSeries of `ваш` [2019-12-01T04:51:06Z - 2020-01-31T14:50:33Z] 568 items, ∑=836.00>\n",
      "ваш {'dist_words': 356.43512733736, 'dist_source_core': 374.5904430174374, 'dist_candidate_core': 91.62968951164245}\n",
      "Successfully added! сделать 9920 <TimeSeries of `сделать` [2019-11-30T17:42:42Z - 2020-01-31T16:23:27Z] 605 items, ∑=747.00>\n",
      "сделать {'dist_words': 346.2296925452813, 'dist_source_core': 368.03668295429463, 'dist_candidate_core': 64.18722614352485}\n",
      "Successfully added! делать 9886 <TimeSeries of `делать` [2019-12-01T01:45:25Z - 2020-01-31T14:50:33Z] 578 items, ∑=749.00>\n",
      "делать {'dist_words': 356.00702240264866, 'dist_source_core': 372.848494699925, 'dist_candidate_core': 72.29799443968}\n",
      "Successfully added! понимать 9172 <TimeSeries of `понимать` [2019-11-30T18:07:04Z - 2020-01-31T16:28:19Z] 550 items, ∑=750.00>\n",
      "понимать {'dist_words': 354.15533315199417, 'dist_source_core': 384.06770236509084, 'dist_candidate_core': 72.80109889280519}\n",
      "Successfully added! большой 9079 <TimeSeries of `большой` [2019-11-30T17:42:42Z - 2020-01-31T14:50:33Z] 570 items, ∑=680.00>\n",
      "большой {'dist_words': 359.92221381848606, 'dist_source_core': 368.10596300521945, 'dist_candidate_core': 63.71812928829596}\n",
      "Successfully added! без 8992 <TimeSeries of `без` [2019-11-30T19:32:51Z - 2020-01-31T16:47:16Z] 507 items, ∑=645.00>\n",
      "без {'dist_words': 359.667902376623, 'dist_source_core': 370.50371118249274, 'dist_candidate_core': 63.387695966961914}\n",
      "Successfully added! хорошо 8836 <TimeSeries of `хорошо` [2019-11-30T17:14:32Z - 2020-01-31T16:47:16Z] 517 items, ∑=625.00>\n",
      "хорошо {'dist_words': 349.6298042215509, 'dist_source_core': 361.5466774843879, 'dist_candidate_core': 61.89507250177513}\n",
      "Successfully added! давать 8446 <TimeSeries of `давать` [2019-11-30T17:31:30Z - 2020-01-31T14:50:33Z] 523 items, ∑=662.00>\n",
      "давать {'dist_words': 364.68616645000395, 'dist_source_core': 380.7820899149539, 'dist_candidate_core': 55.883808030591474}\n",
      "Successfully added! сейчас 7932 <TimeSeries of `сейчас` [2019-11-30T18:11:01Z - 2020-01-31T16:47:16Z] 559 items, ∑=712.00>\n",
      "сейчас {'dist_words': 346.8659683508891, 'dist_source_core': 367.441151750862, 'dist_candidate_core': 68.86944169949398}\n"
     ]
    },
    {
     "data": {
      "text/plain": "{'весь': {'dist_words': 223.6023255693017,\n  'dist_source_core': 262.35472170326955,\n  'dist_candidate_core': 239.06484475974295},\n 'все': {'dist_words': 209.6854787532985,\n  'dist_source_core': 284.31144894288025,\n  'dist_candidate_core': 210.24509506763766},\n 'день': {'dist_words': 316.83749778080244,\n  'dist_source_core': 353.4572109888268,\n  'dist_candidate_core': 127.51470503436065},\n 'мой': {'dist_words': 211.2889017435606,\n  'dist_source_core': 324.54737712697664,\n  'dist_candidate_core': 207.27276714513172},\n 'который': {'dist_words': 272.95604041676745,\n  'dist_source_core': 313.5554177493988,\n  'dist_candidate_core': 230.69026854204319},\n 'свой': {'dist_words': 286.8135282722905,\n  'dist_source_core': 325.45660232971153,\n  'dist_candidate_core': 228.4162866347319},\n 'человек': {'dist_words': 302.25816779700097,\n  'dist_source_core': 324.73373708316785,\n  'dist_candidate_core': 243.71294590152573},\n 'так': {'dist_words': 290.09136491802025,\n  'dist_source_core': 328.38239904111794,\n  'dist_candidate_core': 206.50423724466285},\n 'год': {'dist_words': 337.6210893886814,\n  'dist_source_core': 86.55056325639943,\n  'dist_candidate_core': 396.268848132174},\n 'такой': {'dist_words': 312.1938500355188,\n  'dist_source_core': 351.88492437159056,\n  'dist_candidate_core': 179.8054504179448},\n 'очень': {'dist_words': 278.54622596617605,\n  'dist_source_core': 332.76117561999325,\n  'dist_candidate_core': 149.38540758722053},\n 'спасибо': {'dist_words': 272.35271248878723,\n  'dist_source_core': 364.23755984247424,\n  'dist_candidate_core': 129.94229488507582},\n 'если': {'dist_words': 329.0455895464943,\n  'dist_source_core': 353.05948507298314,\n  'dist_candidate_core': 162.97852619286996},\n 'мочь': {'dist_words': 313.78336475982917,\n  'dist_source_core': 351.4896869041822,\n  'dist_candidate_core': 168.6801707374047},\n 'себя': {'dist_words': 263.39893697583517,\n  'dist_source_core': 322.7708165246666,\n  'dist_candidate_core': 169.20401886480118},\n 'кто': {'dist_words': 297.7885155609598,\n  'dist_source_core': 349.38803642941184,\n  'dist_candidate_core': 133.88054376943649},\n 'или': {'dist_words': 335.98958317185964,\n  'dist_source_core': 375.6700680118127,\n  'dist_candidate_core': 153.5545505675426},\n 'самый': {'dist_words': 293.6596669616037,\n  'dist_source_core': 346.5198407017988,\n  'dist_candidate_core': 106.3296760081587},\n 'один': {'dist_words': 314.1862504948299,\n  'dist_source_core': 351.83945202322036,\n  'dist_candidate_core': 123.25583150504482},\n 'когда': {'dist_words': 335.4817431694309,\n  'dist_source_core': 368.1236205407091,\n  'dist_candidate_core': 118.1397477566293},\n 'жизнь': {'dist_words': 304.76876480374426,\n  'dist_source_core': 340.02352859765455,\n  'dist_candidate_core': 114.64728518373211},\n 'тот': {'dist_words': 309.95967479657736,\n  'dist_source_core': 336.87089515124336,\n  'dist_candidate_core': 132.33669181296622},\n 'только': {'dist_words': 315.9034662677825,\n  'dist_source_core': 340.79172525165575,\n  'dist_candidate_core': 122.68659258452001},\n 'новый': {'dist_words': 0.0,\n  'dist_source_core': 0.0,\n  'dist_candidate_core': 0.0},\n 'хороший': {'dist_words': 303.11219045099455,\n  'dist_source_core': 347.522661131616,\n  'dist_candidate_core': 92.96773633901172},\n 'она': {'dist_words': 350.0999857183659,\n  'dist_source_core': 383.96614434087803,\n  'dist_candidate_core': 142.16891362038328},\n 'вот': {'dist_words': 316.8138254558977,\n  'dist_source_core': 356.27236771885634,\n  'dist_candidate_core': 126.10709734190222},\n 'друг': {'dist_words': 282.5084069545542,\n  'dist_source_core': 308.88023569014575,\n  'dist_candidate_core': 86.2902080192185},\n 'уже': {'dist_words': 332.14906292205615,\n  'dist_source_core': 357.53461370893865,\n  'dist_candidate_core': 101.61692772368194},\n 'время': {'dist_words': 326.8072826605919,\n  'dist_source_core': 345.44029874929186,\n  'dist_candidate_core': 105.49881515922347},\n 'хотеть': {'dist_words': 321.93477600284194,\n  'dist_source_core': 352.797392280612,\n  'dist_candidate_core': 112.51666543228163},\n 'много': {'dist_words': 272.2076413328619,\n  'dist_source_core': 311.6167517961767,\n  'dist_candidate_core': 99.29753269845128},\n 'просто': {'dist_words': 322.3414338864925,\n  'dist_source_core': 356.6763238567988,\n  'dist_candidate_core': 101.83319694480774},\n 'работа': {'dist_words': 340.8225344662527,\n  'dist_source_core': 368.9132689400044,\n  'dist_candidate_core': 123.4382436686459},\n 'чтобы': {'dist_words': 325.4612112064969,\n  'dist_source_core': 357.1890255872932,\n  'dist_candidate_core': 92.27675763701279},\n 'знать': {'dist_words': 342.870237845165,\n  'dist_source_core': 363.44050407184943,\n  'dist_candidate_core': 93.66429415737889},\n 'можно': {'dist_words': 349.1575575581889,\n  'dist_source_core': 369.0081299917388,\n  'dist_candidate_core': 85.00588214941364},\n 'нет': {'dist_words': 361.6130528617572,\n  'dist_source_core': 380.6520721078502,\n  'dist_candidate_core': 91.72785836374901},\n 'каждый': {'dist_words': 329.3630216038224,\n  'dist_source_core': 348.9183285526858,\n  'dist_candidate_core': 76.53757247260981},\n 'другой': {'dist_words': 328.11888089532425,\n  'dist_source_core': 360.90719028581293,\n  'dist_candidate_core': 81.70679286326198},\n 'становиться': {'dist_words': 327.6141022605712,\n  'dist_source_core': 342.85565475867537,\n  'dist_candidate_core': 67.94850991743675},\n 'первый': {'dist_words': 345.1057808846441,\n  'dist_source_core': 361.73609164693534,\n  'dist_candidate_core': 93.80298502713013},\n 'даже': {'dist_words': 356.8459051187221,\n  'dist_source_core': 372.35869803188433,\n  'dist_candidate_core': 68.48357467305573},\n 'какой': {'dist_words': 359.9611090104041,\n  'dist_source_core': 385.390710837716,\n  'dist_candidate_core': 82.3286098510111},\n 'раз': {'dist_words': 343.05101661414733,\n  'dist_source_core': 374.33273968489584,\n  'dist_candidate_core': 74.71947537289057},\n 'сам': {'dist_words': 354.76752951757015,\n  'dist_source_core': 376.1688450682752,\n  'dist_candidate_core': 66.83561924602779},\n 'ваш': {'dist_words': 356.43512733736,\n  'dist_source_core': 374.5904430174374,\n  'dist_candidate_core': 91.62968951164245},\n 'сделать': {'dist_words': 346.2296925452813,\n  'dist_source_core': 368.03668295429463,\n  'dist_candidate_core': 64.18722614352485},\n 'делать': {'dist_words': 356.00702240264866,\n  'dist_source_core': 372.848494699925,\n  'dist_candidate_core': 72.29799443968},\n 'понимать': {'dist_words': 354.15533315199417,\n  'dist_source_core': 384.06770236509084,\n  'dist_candidate_core': 72.80109889280519},\n 'большой': {'dist_words': 359.92221381848606,\n  'dist_source_core': 368.10596300521945,\n  'dist_candidate_core': 63.71812928829596},\n 'без': {'dist_words': 359.667902376623,\n  'dist_source_core': 370.50371118249274,\n  'dist_candidate_core': 63.387695966961914},\n 'хорошо': {'dist_words': 349.6298042215509,\n  'dist_source_core': 361.5466774843879,\n  'dist_candidate_core': 61.89507250177513},\n 'давать': {'dist_words': 364.68616645000395,\n  'dist_source_core': 380.7820899149539,\n  'dist_candidate_core': 55.883808030591474},\n 'сейчас': {'dist_words': 346.8659683508891,\n  'dist_source_core': 367.441151750862,\n  'dist_candidate_core': 68.86944169949398}}"
     },
     "execution_count": 21,
     "metadata": {},
     "output_type": "execute_result"
    }
   ],
   "source": [
    "import datetime\n",
    "from_ = datetime.datetime(2019, 12, 1)\n",
    "to_ = datetime.datetime(2020, 2, 1)\n",
    "grid_period = datetime.timedelta(days=1)\n",
    "\n",
    "dists = await do_dist_search(\"новый\", 100, from_, to_, grid_period, lambda name: name == \"год\")"
   ],
   "metadata": {
    "collapsed": false,
    "pycharm": {
     "name": "#%%\n"
    }
   }
  },
  {
   "cell_type": "code",
   "execution_count": 22,
   "outputs": [],
   "source": [
    "dists = Out[21]"
   ],
   "metadata": {
    "collapsed": false,
    "pycharm": {
     "name": "#%%\n"
    }
   }
  },
  {
   "cell_type": "code",
   "execution_count": 23,
   "outputs": [],
   "source": [
    "for key, item in dists.items():\n",
    "    dists[key]['full'] = np.sum(np.array(tuple(dists[key].values())) ** 2) ** 0.5"
   ],
   "metadata": {
    "collapsed": false,
    "pycharm": {
     "name": "#%%\n"
    }
   }
  },
  {
   "cell_type": "code",
   "execution_count": 27,
   "outputs": [
    {
     "data": {
      "text/plain": "[('новый', 0.0),\n ('год', 86.55056325639943),\n ('весь', 262.35472170326955),\n ('все', 284.31144894288025),\n ('друг', 308.88023569014575),\n ('много', 311.6167517961767),\n ('который', 313.5554177493988),\n ('себя', 322.7708165246666),\n ('мой', 324.54737712697664),\n ('человек', 324.73373708316785),\n ('свой', 325.45660232971153),\n ('так', 328.38239904111794),\n ('очень', 332.76117561999325),\n ('тот', 336.87089515124336),\n ('жизнь', 340.02352859765455),\n ('только', 340.79172525165575),\n ('становиться', 342.85565475867537),\n ('время', 345.44029874929186),\n ('самый', 346.5198407017988),\n ('хороший', 347.522661131616),\n ('каждый', 348.9183285526858),\n ('кто', 349.38803642941184),\n ('мочь', 351.4896869041822),\n ('один', 351.83945202322036),\n ('такой', 351.88492437159056),\n ('хотеть', 352.797392280612),\n ('если', 353.05948507298314),\n ('день', 353.4572109888268),\n ('вот', 356.27236771885634),\n ('просто', 356.6763238567988),\n ('чтобы', 357.1890255872932),\n ('уже', 357.53461370893865),\n ('другой', 360.90719028581293),\n ('хорошо', 361.5466774843879),\n ('первый', 361.73609164693534),\n ('знать', 363.44050407184943),\n ('спасибо', 364.23755984247424),\n ('сейчас', 367.441151750862),\n ('сделать', 368.03668295429463),\n ('большой', 368.10596300521945),\n ('когда', 368.1236205407091),\n ('работа', 368.9132689400044),\n ('можно', 369.0081299917388),\n ('без', 370.50371118249274),\n ('даже', 372.35869803188433),\n ('делать', 372.848494699925),\n ('раз', 374.33273968489584),\n ('ваш', 374.5904430174374),\n ('или', 375.6700680118127),\n ('сам', 376.1688450682752),\n ('нет', 380.6520721078502),\n ('давать', 380.7820899149539),\n ('она', 383.96614434087803),\n ('понимать', 384.06770236509084),\n ('какой', 385.390710837716)]"
     },
     "execution_count": 27,
     "metadata": {},
     "output_type": "execute_result"
    }
   ],
   "source": [
    "_dists = sorted(((n, v['dist_source_core']) for n, v in dists.items()), key=lambda x:x[1])\n",
    "_dists"
   ],
   "metadata": {
    "collapsed": false,
    "pycharm": {
     "name": "#%%\n"
    }
   }
  },
  {
   "cell_type": "code",
   "execution_count": null,
   "outputs": [],
   "source": [
    "\n"
   ],
   "metadata": {
    "collapsed": false,
    "pycharm": {
     "name": "#%%\n"
    }
   }
  }
 ],
 "metadata": {
  "kernelspec": {
   "name": "vk_grabber",
   "language": "python",
   "display_name": "vk_grabber"
  },
  "language_info": {
   "codemirror_mode": {
    "name": "ipython",
    "version": 2
   },
   "file_extension": ".py",
   "mimetype": "text/x-python",
   "name": "python",
   "nbconvert_exporter": "python",
   "pygments_lexer": "ipython2",
   "version": "2.7.6"
  }
 },
 "nbformat": 4,
 "nbformat_minor": 0
}